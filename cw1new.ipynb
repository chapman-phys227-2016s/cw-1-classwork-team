{
 "cells": [
  {
   "cell_type": "code",
   "execution_count": 2,
   "metadata": {
    "collapsed": false
   },
   "outputs": [],
   "source": [
    "import sympy\n",
    "\n",
    "import kinematics as p1"
   ]
  },
  {
   "cell_type": "markdown",
   "metadata": {},
   "source": [
    "# Classwork 1\n",
    "\n",
    "### Taylor Patti\n",
    "### 2/8/2016"
   ]
  },
  {
   "cell_type": "markdown",
   "metadata": {},
   "source": [
    "## kinematics.py\n",
    "\n",
    "Two different versions of a velocity and acceleration finding function were coded. Both versions relied on the same truncated Taylor Series derived approximations to conduct calculations on indexed lists of data, however differed in the order and manner in which they processed the calculations. Ultimately, a series of loops which ran one million runs of each code version were implemented for different kinematics systems and their preformance time was documented and output to a table."
   ]
  },
  {
   "cell_type": "code",
   "execution_count": 4,
   "metadata": {
    "collapsed": false
   },
   "outputs": [
    {
     "name": "stdout",
     "output_type": "stream",
     "text": [
      "\n",
      " Efficiency Comparison in Seconds for a Million Runs \n",
      "\n",
      "\n",
      "           Run Type             kinematics1         kinematics2 \n",
      "\n",
      "          Constant V             1.222972             1.188266 \n",
      "\n",
      "          Constant A             1.188911             1.161556 \n",
      "\n"
     ]
    }
   ],
   "source": [
    "p1.efficiency_comparison()"
   ]
  },
  {
   "cell_type": "code",
   "execution_count": null,
   "metadata": {
    "collapsed": true
   },
   "outputs": [],
   "source": []
  }
 ],
 "metadata": {
  "kernelspec": {
   "display_name": "Python 2 (SageMath)",
   "language": "python",
   "name": "python2"
  },
  "language_info": {
   "codemirror_mode": {
    "name": "ipython",
    "version": 2
   },
   "file_extension": ".py",
   "mimetype": "text/x-python",
   "name": "python",
   "nbconvert_exporter": "python",
   "pygments_lexer": "ipython2",
   "version": "2.7.10"
  },
  "name": "cw1new.ipynb"
 },
 "nbformat": 4,
 "nbformat_minor": 0
}
